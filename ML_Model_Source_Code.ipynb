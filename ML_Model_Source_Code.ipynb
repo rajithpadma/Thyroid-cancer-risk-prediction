{
 "cells": [
  {
   "cell_type": "code",
   "execution_count": 3,
   "metadata": {},
   "outputs": [
    {
     "name": "stdout",
     "output_type": "stream",
     "text": [
      "<class 'pandas.core.frame.DataFrame'>\n",
      "RangeIndex: 384 entries, 0 to 383\n",
      "Data columns (total 12 columns):\n",
      " #   Column                Non-Null Count  Dtype  \n",
      "---  ------                --------------  -----  \n",
      " 0   Sno                   384 non-null    int64  \n",
      " 1   Filename              384 non-null    object \n",
      " 2   number                384 non-null    int64  \n",
      " 3   age                   300 non-null    float64\n",
      " 4   sex                   301 non-null    object \n",
      " 5   composition           197 non-null    object \n",
      " 6   echogenicity          197 non-null    object \n",
      " 7   margins               294 non-null    object \n",
      " 8   calcifications        296 non-null    object \n",
      " 9   tirads                295 non-null    object \n",
      " 10  Malignant_percentage  384 non-null    float64\n",
      " 11  Cancer_Risk           384 non-null    float64\n",
      "dtypes: float64(3), int64(2), object(7)\n",
      "memory usage: 36.1+ KB\n"
     ]
    },
    {
     "data": {
      "text/plain": [
       "(   Sno   Filename  number   age  sex          composition       echogenicity  \\\n",
       " 0    1  100_1.jpg       1   NaN  NaN                  NaN                NaN   \n",
       " 1    2  101_1.jpg      10  74.0    F                solid  hyperechogenicity   \n",
       " 2    3  102_1.jpg     100  39.0    F  predominantly solid    isoechogenicity   \n",
       " 3    4  103_1.jpg     101  40.0    M                solid   hypoechogenicity   \n",
       " 4    5  104_1.jpg     102  28.0    F                solid    isoechogenicity   \n",
       " \n",
       "         margins       calcifications tirads  Malignant_percentage  Cancer_Risk  \n",
       " 0           NaN                  NaN    NaN                  0.72         0.72  \n",
       " 1    spiculated  microcalcifications     4b                  0.35         1.00  \n",
       " 2  well defined  macrocalcifications     4a                  0.86         1.00  \n",
       " 3  well defined  microcalcifications      5                  0.62         1.00  \n",
       " 4  well defined  microcalcifications     4b                  0.55         0.83  ,\n",
       " None)"
      ]
     },
     "execution_count": 3,
     "metadata": {},
     "output_type": "execute_result"
    }
   ],
   "source": [
    "import pandas as pd\n",
    "\n",
    "# Load the dataset\n",
    "file_path = r\"B:\\sap\\Capstone project\\thyroid\\thyroid_data.xlsx\"\n",
    "data = pd.read_excel(file_path)\n",
    "\n",
    "# Display the first few rows of the dataset to understand its structure\n",
    "data.head(), data.info()\n"
   ]
  },
  {
   "cell_type": "code",
   "execution_count": 5,
   "metadata": {},
   "outputs": [
    {
     "data": {
      "text/plain": [
       "(0.001068831168831169,\n",
       " 0.015974025974025977,\n",
       " 0.983302346856717,\n",
       " 'B:\\\\sap\\\\Capstone project\\\\thyroid\\\\cancer_risk_model.pkl')"
      ]
     },
     "execution_count": 5,
     "metadata": {},
     "output_type": "execute_result"
    }
   ],
   "source": [
    "from sklearn.model_selection import train_test_split\n",
    "from sklearn.impute import SimpleImputer\n",
    "from sklearn.preprocessing import OneHotEncoder, StandardScaler\n",
    "from sklearn.compose import ColumnTransformer\n",
    "from sklearn.pipeline import Pipeline\n",
    "from sklearn.tree import DecisionTreeRegressor\n",
    "from sklearn.metrics import mean_squared_error, mean_absolute_error, r2_score\n",
    "import pickle\n",
    "\n",
    "# Drop unnecessary columns\n",
    "data = data.drop(columns=[\"Sno\", \"Filename\"])\n",
    "\n",
    "# Define target and features\n",
    "target = \"Cancer_Risk\"\n",
    "X = data.drop(columns=[target])\n",
    "y = data[target]\n",
    "\n",
    "# Handle missing values and encode categorical variables\n",
    "numeric_features = X.select_dtypes(include=[\"int64\", \"float64\"]).columns\n",
    "categorical_features = X.select_dtypes(include=[\"object\"]).columns\n",
    "\n",
    "# Preprocessing for numeric and categorical features\n",
    "numeric_transformer = Pipeline(steps=[\n",
    "    (\"imputer\", SimpleImputer(strategy=\"mean\")),\n",
    "    (\"scaler\", StandardScaler())\n",
    "])\n",
    "\n",
    "categorical_transformer = Pipeline(steps=[\n",
    "    (\"imputer\", SimpleImputer(strategy=\"most_frequent\")),\n",
    "    (\"onehot\", OneHotEncoder(handle_unknown=\"ignore\"))\n",
    "])\n",
    "\n",
    "# Combine preprocessors in a column transformer\n",
    "preprocessor = ColumnTransformer(\n",
    "    transformers=[\n",
    "        (\"num\", numeric_transformer, numeric_features),\n",
    "        (\"cat\", categorical_transformer, categorical_features)\n",
    "    ]\n",
    ")\n",
    "\n",
    "# Train-test split\n",
    "X_train, X_test, y_train, y_test = train_test_split(X, y, test_size=0.2, random_state=42)\n",
    "\n",
    "# Define the model pipeline\n",
    "model_pipeline = Pipeline(steps=[\n",
    "    (\"preprocessor\", preprocessor),\n",
    "    (\"regressor\", DecisionTreeRegressor(random_state=42))\n",
    "])\n",
    "\n",
    "# Fit the model\n",
    "model_pipeline.fit(X_train, y_train)\n",
    "\n",
    "# Predictions and evaluation\n",
    "y_pred = model_pipeline.predict(X_test)\n",
    "mse = mean_squared_error(y_test, y_pred)\n",
    "mae = mean_absolute_error(y_test, y_pred)\n",
    "r2 = r2_score(y_test, y_pred)\n",
    "\n",
    "# Save the model as a .pkl file\n",
    "model_path = r\"B:\\sap\\Capstone project\\thyroid\\cancer_risk_model.pkl\"\n",
    "with open(model_path, \"wb\") as file:\n",
    "    pickle.dump(model_pipeline, file)\n",
    "\n",
    "mse, mae, r2, model_path\n"
   ]
  },
  {
   "cell_type": "code",
   "execution_count": null,
   "metadata": {},
   "outputs": [],
   "source": []
  }
 ],
 "metadata": {
  "kernelspec": {
   "display_name": "base",
   "language": "python",
   "name": "python3"
  },
  "language_info": {
   "codemirror_mode": {
    "name": "ipython",
    "version": 3
   },
   "file_extension": ".py",
   "mimetype": "text/x-python",
   "name": "python",
   "nbconvert_exporter": "python",
   "pygments_lexer": "ipython3",
   "version": "3.12.7"
  }
 },
 "nbformat": 4,
 "nbformat_minor": 2
}
